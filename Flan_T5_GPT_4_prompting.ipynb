{
  "nbformat": 4,
  "nbformat_minor": 0,
  "metadata": {
    "colab": {
      "provenance": []
    },
    "kernelspec": {
      "name": "python3",
      "display_name": "Python 3"
    },
    "language_info": {
      "name": "python"
    }
  },
  "cells": [
    {
      "cell_type": "code",
      "execution_count": 52,
      "metadata": {
        "colab": {
          "base_uri": "https://localhost:8080/"
        },
        "id": "b-kbAIViJgx7",
        "outputId": "f1ff3b8c-4dbd-46bc-f906-8170f9b4647a"
      },
      "outputs": [
        {
          "output_type": "stream",
          "name": "stdout",
          "text": [
            "Drive already mounted at /content/drive; to attempt to forcibly remount, call drive.mount(\"/content/drive\", force_remount=True).\n"
          ]
        }
      ],
      "source": [
        "# 导入相关包\n",
        "import os, json\n",
        "from pathlib import Path\n",
        "from tqdm import tqdm\n",
        "from transformers import AutoTokenizer, AutoModelForSeq2SeqLM\n",
        "from openai import OpenAI\n",
        "import time\n",
        "\n",
        "\n",
        "# 挂载 Drive\n",
        "from google.colab import drive\n",
        "drive.mount('/content/drive')"
      ]
    },
    {
      "cell_type": "code",
      "source": [
        "def read_conll(path):\n",
        "    \"\"\"读取 CoNLL 格式文件，返回 [{'tokens': [...], 'ner_tags': [...]}]\"\"\"\n",
        "    sents, tokens, labels = [], [], []\n",
        "    with open(path, encoding=\"utf-8\") as f:\n",
        "        for line in f:\n",
        "            line = line.strip()\n",
        "            if not line:\n",
        "                if tokens:\n",
        "                    sents.append({\"tokens\": tokens, \"ner_tags\": labels})\n",
        "                    tokens, labels = [], []\n",
        "            else:\n",
        "                parts = line.split()\n",
        "                tok, lab = parts[0], parts[-1]\n",
        "                tokens.append(tok)\n",
        "                labels.append(lab)\n",
        "    if tokens:\n",
        "        sents.append({\"tokens\": tokens, \"ner_tags\": labels})\n",
        "    return sents\n",
        "\n",
        "def bio_to_medical_entities(tokens, tags):\n",
        "    \"\"\"从 BIO 标签中抽取医学实体列表\"\"\"\n",
        "    entities = []\n",
        "    i = 0\n",
        "    while i < len(tags):\n",
        "        if tags[i].startswith(\"B-\"):\n",
        "            j = i + 1\n",
        "            while j < len(tags) and tags[j].startswith(\"I-\"):\n",
        "                j += 1\n",
        "            entity = \" \".join(tokens[i:j])\n",
        "            entities.append(entity)\n",
        "            i = j\n",
        "        else:\n",
        "            i += 1\n",
        "    return entities\n",
        "\n",
        "def build_fewshot_prompt_disease_GPT(train_path):\n",
        "    \"\"\"\n",
        "    为 GPT 构造医学实体识别 Few-shot Prompt\n",
        "    \"\"\"\n",
        "    train_data = read_conll(train_path)\n",
        "    examples = train_data\n",
        "\n",
        "    header = (\n",
        "        \"You are a medical information extraction assistant.\\n\"\n",
        "        \"Task: Extract all medical entities mentioned in each clinical sentence below.\\n\"\n",
        "        \"If no medical entity is found, output: Entity: None\\n\"\n",
        "        \"Output them strictly after 'Entity:' separated by semicolons.\\n\"\n",
        "        \"Do not add explanations or extra text.\\n\\n\"\n",
        "    )\n",
        "\n",
        "    example_blocks = []\n",
        "    for i, ex in enumerate(examples, 1):\n",
        "        tokens = [t.strip() for t in ex[\"tokens\"]]\n",
        "        entities = bio_to_medical_entities(tokens, ex[\"ner_tags\"])\n",
        "        entities_str = \"; \".join(entities) if entities else \"None\"\n",
        "        block = (\n",
        "            f\"Example {i}:\\n\"\n",
        "            f\"Sentence: {' '.join(tokens)}\\n\"\n",
        "            f\"Entity: {entities_str}\\n\"\n",
        "        )\n",
        "        example_blocks.append(block)\n",
        "\n",
        "    prompt = header + \"\\n---\\n\".join(example_blocks) + \"\\n\\nNow analyze the following sentence:\\nSentence: \"\n",
        "    return prompt\n",
        "\n",
        "\n",
        "def build_fewshot_prompt_disease_T5(train_path):\n",
        "    \"\"\"\n",
        "    为 Flan-T5 构造医学实体识别 Few-shot Prompt（优化版）\n",
        "    \"\"\"\n",
        "    train_data = read_conll(train_path)\n",
        "    examples = train_data\n",
        "\n",
        "    header = (\n",
        "        \"Instruction: Extract all medical entities from the input sentence.\\n\"\n",
        "        \"If no medical entity is found, output: Entity: None\\n\"\n",
        "        \"Format the output as: Entity: entity1; entity2; ...\\n\\n\"\n",
        "    )\n",
        "\n",
        "    example_blocks = []\n",
        "    for i, ex in enumerate(examples, 1):\n",
        "        tokens = [t.strip() for t in ex[\"tokens\"]]\n",
        "        entities = bio_to_medical_entities(tokens, ex[\"ner_tags\"])\n",
        "        entities_str = \"; \".join(entities) if entities else \"None\"\n",
        "        block = (\n",
        "            f\"Input: {' '.join(tokens)}\\n\"\n",
        "            f\"Target: Entity: {entities_str}\\n\"\n",
        "        )\n",
        "        example_blocks.append(block)\n",
        "\n",
        "    prompt = header + \"\\n---\\n\".join(example_blocks) + \"\\n\\nInput: \"\n",
        "    return prompt"
      ],
      "metadata": {
        "id": "r20jEiZiNSIv"
      },
      "execution_count": 53,
      "outputs": []
    },
    {
      "cell_type": "code",
      "source": [
        "train_path = \"/content/drive/MyDrive/small_data_NER_project/conll/fewshot_k1_seed42_mention/train.conll\"\n",
        "\n",
        "prompt_text = build_fewshot_prompt_disease_GPT(train_path)\n",
        "\n",
        "print(\"==== 以下是为 ChatGPT 构造的医学实体识别 Few-Shot 示例 ====\\n\")\n",
        "print(prompt_text)\n",
        "\n",
        "\n",
        "prompt_text = build_fewshot_prompt_disease_T5(train_path)\n",
        "\n",
        "print(\"==== 以下是为 Flan-T5 构造的医学实体识别 Few-Shot 示例 ====\\n\")\n",
        "print(prompt_text)\n"
      ],
      "metadata": {
        "colab": {
          "base_uri": "https://localhost:8080/"
        },
        "id": "FJfAzGcEPQMZ",
        "outputId": "8430e063-709f-4bbb-b517-0e5c4f6eb1c4"
      },
      "execution_count": 54,
      "outputs": [
        {
          "output_type": "stream",
          "name": "stdout",
          "text": [
            "==== 以下是为 ChatGPT 构造的医学实体识别 Few-Shot 示例 ====\n",
            "\n",
            "You are a medical information extraction assistant.\n",
            "Task: Extract all medical entities mentioned in each clinical sentence below.\n",
            "If no medical entity is found, output: Entity: None\n",
            "Output them strictly after 'Entity:' separated by semicolons.\n",
            "Do not add explanations or extra text.\n",
            "\n",
            "Example 1:\n",
            "Sentence: Coronary angiography done demonstrated significant lesions in the mid portion of the Left Descending Coronary Artery ( LAD ) and the proximal Circumflex Coronary Artery ( Cx ) .\n",
            "Entity: lesions in the mid portion of the Left Descending Coronary Artery\n",
            "\n",
            "\n",
            "Now analyze the following sentence:\n",
            "Sentence: \n",
            "==== 以下是为 Flan-T5 构造的医学实体识别 Few-Shot 示例 ====\n",
            "\n",
            "Instruction: Extract all medical entities from the input sentence.\n",
            "If no medical entity is found, output: Entity: None\n",
            "Format the output as: Entity: entity1; entity2; ...\n",
            "\n",
            "Input: Coronary angiography done demonstrated significant lesions in the mid portion of the Left Descending Coronary Artery ( LAD ) and the proximal Circumflex Coronary Artery ( Cx ) .\n",
            "Target: Entity: lesions in the mid portion of the Left Descending Coronary Artery\n",
            "\n",
            "\n",
            "Input: \n"
          ]
        }
      ]
    },
    {
      "cell_type": "code",
      "source": [
        "# --- 推理函数 ---\n",
        "def predict_flan_t5(prompt_prefix, sentence):\n",
        "    full_prompt = prompt_prefix + sentence\n",
        "    inputs = t5_tokenizer(full_prompt, return_tensors=\"pt\", truncation=True)\n",
        "    outputs = t5_model.generate(**inputs, max_new_tokens=50)\n",
        "    return t5_tokenizer.decode(outputs[0], skip_special_tokens=True)\n",
        "\n",
        "def predict_gpt(prompt_prefix, sentence):\n",
        "    full_prompt = prompt_prefix + sentence\n",
        "    response = client.chat.completions.create(\n",
        "        model=\"gpt-4o-mini\",\n",
        "        messages=[\n",
        "            {\"role\": \"system\", \"content\": \"You are a medical information extraction assistant.\"},\n",
        "            {\"role\": \"user\", \"content\": full_prompt},\n",
        "        ],\n",
        "        temperature=0\n",
        "    )\n",
        "    return response.choices[0].message.content"
      ],
      "metadata": {
        "id": "wZTdYU79h_HW"
      },
      "execution_count": 55,
      "outputs": []
    },
    {
      "cell_type": "code",
      "source": [
        "# --- F1 计算函数 ---\n",
        "def compute_f1(pred_entities, gold_entities):\n",
        "    correct = sum(len(set(p) & set(g)) for p, g in zip(pred_entities, gold_entities))\n",
        "    total_pred = sum(len(p) for p in pred_entities)\n",
        "    total_gold = sum(len(g) for g in gold_entities)\n",
        "    prec = correct / total_pred if total_pred else 0\n",
        "    rec = correct / total_gold if total_gold else 0\n",
        "    f1 = 2 * prec * rec / (prec + rec + 1e-10)\n",
        "    return prec, rec, f1"
      ],
      "metadata": {
        "id": "kpke2ZIKh_xT"
      },
      "execution_count": 56,
      "outputs": []
    },
    {
      "cell_type": "code",
      "source": [
        "# --- 模型加载（Flan-T5） ---\n",
        "t5_name = \"google/flan-t5-base\"\n",
        "t5_tokenizer = AutoTokenizer.from_pretrained(t5_name)\n",
        "t5_model = AutoModelForSeq2SeqLM.from_pretrained(t5_name)"
      ],
      "metadata": {
        "id": "OyyQKCeVQrhD"
      },
      "execution_count": 57,
      "outputs": []
    },
    {
      "cell_type": "code",
      "source": [
        "# --- 设置 GPT API Key ---\n",
        "import os\n",
        "from openai import OpenAI\n",
        "\n",
        "os.environ[\"OPENAI_API_KEY\"] = input(\"Enter your OpenAI API key: \")\n",
        "client = OpenAI(api_key=os.getenv(\"OPENAI_API_KEY\"))"
      ],
      "metadata": {
        "id": "JM9Ke-ZQ6SLg"
      },
      "execution_count": null,
      "outputs": []
    },
    {
      "cell_type": "code",
      "source": [
        "# 设置路径\n",
        "BASE = Path(\"/content/drive/MyDrive/small_data_NER_project/conll\")\n",
        "RESULT_BASE = Path(\"/content/drive/MyDrive/small_data_NER_project/results\")\n",
        "K_VALUES = [1,5,10,20]\n",
        "SEED = 42"
      ],
      "metadata": {
        "id": "bjj_huMChwET"
      },
      "execution_count": 60,
      "outputs": []
    },
    {
      "cell_type": "code",
      "source": [
        "# --- 主循环 ---\n",
        "for k in K_VALUES:\n",
        "    print(f\"\\n=== Few-shot k={k} ===\")\n",
        "    data_dir = BASE / f\"fewshot_k{k}_seed{SEED}_mention\"\n",
        "    train_path, test_path = data_dir / \"train.conll\", data_dir / \"test.conll\"\n",
        "    test_data = read_conll(test_path)\n",
        "\n",
        "    # 构造 prompts\n",
        "    prompt_t5 = build_fewshot_prompt_disease_T5(train_path)\n",
        "    prompt_gpt = build_fewshot_prompt_disease_GPT(train_path)\n",
        "\n",
        "    for model_type in [\"flan-t5\", \"gpt-4o-mini\"]:\n",
        "        print(f\"\\n--- Evaluating {model_type} ---\")\n",
        "        preds, golds = [], []\n",
        "\n",
        "        # 🕒 开始计时\n",
        "        t0 = time.time()\n",
        "\n",
        "        for ex in tqdm(test_data):\n",
        "            sent = \" \".join(ex[\"tokens\"])\n",
        "            if model_type == \"flan-t5\":\n",
        "                out = predict_flan_t5(prompt_t5, sent)\n",
        "            else:\n",
        "                out = predict_gpt(prompt_gpt, sent)\n",
        "\n",
        "            out = out.replace(\"Entity:\", \"\").strip()\n",
        "            ents_pred = [x.strip() for x in out.split(\";\") if x.strip() and x.lower() != \"none\"]\n",
        "            ents_gold = bio_to_medical_entities(ex[\"tokens\"], ex[\"ner_tags\"])\n",
        "            preds.append(ents_pred)\n",
        "            golds.append(ents_gold)\n",
        "\n",
        "        # 🕒 结束计时\n",
        "        infer_time = time.time() - t0\n",
        "        print(f\"Inference time: {infer_time:.2f} seconds\")\n",
        "\n",
        "        # 计算指标\n",
        "        p, r, f1 = compute_f1(preds, golds)\n",
        "        print(f\"Precision={p:.3f} Recall={r:.3f} F1={f1:.3f}\")\n",
        "\n",
        "        # 🧠 记录资源使用\n",
        "        import torch, psutil\n",
        "        gpu_mem_mb = torch.cuda.max_memory_allocated() / (1024 * 1024) if torch.cuda.is_available() else 0\n",
        "        mem_info = psutil.virtual_memory()\n",
        "        used_mem_gb = mem_info.used / (1024**3)\n",
        "        mem_percent = mem_info.percent\n",
        "\n",
        "        print(f\"💾 GPU peak memory: {gpu_mem_mb:.1f} MB | CPU memory used: {used_mem_gb:.1f} GB ({mem_percent:.1f}%)\")\n",
        "\n",
        "        # 保存结果\n",
        "        out_dir = RESULT_BASE / f\"prompt_{model_type}_k{k}\"\n",
        "        out_dir.mkdir(parents=True, exist_ok=True)\n",
        "        results = {\n",
        "            \"k\": k,\n",
        "            \"model\": model_type,\n",
        "            \"precision\": p,\n",
        "            \"recall\": r,\n",
        "            \"f1\": f1,\n",
        "            \"infer_time_s\": infer_time,\n",
        "            \"gpu_mem_mb\": gpu_mem_mb,\n",
        "            \"cpu_mem_gb\": used_mem_gb,\n",
        "            \"cpu_mem_percent\": mem_percent\n",
        "        }\n",
        "        with open(out_dir / \"metrics.json\", \"w\") as f:\n",
        "            json.dump(results, f, indent=2)\n",
        "        print(f\"✅ Saved to {out_dir}/metrics.json\")\n"
      ],
      "metadata": {
        "colab": {
          "base_uri": "https://localhost:8080/"
        },
        "id": "N8TEp0MYhsw1",
        "outputId": "c6945a76-d714-4f1c-8643-e81855fcb9cb"
      },
      "execution_count": 61,
      "outputs": [
        {
          "output_type": "stream",
          "name": "stdout",
          "text": [
            "\n",
            "=== Few-shot k=1 ===\n",
            "\n",
            "--- Evaluating flan-t5 ---\n"
          ]
        },
        {
          "output_type": "stream",
          "name": "stderr",
          "text": [
            "100%|██████████| 851/851 [17:54<00:00,  1.26s/it]\n"
          ]
        },
        {
          "output_type": "stream",
          "name": "stdout",
          "text": [
            "Inference time: 1074.43 seconds\n",
            "Precision=0.037 Recall=0.033 F1=0.035\n",
            "Precision=0.037 Recall=0.033 F1=0.035\n",
            "💾 GPU peak memory: 0.0 MB | CPU memory used: 4.7 GB (39.9%)\n",
            "✅ Saved to /content/drive/MyDrive/small_data_NER_project/results/prompt_flan-t5_k1/metrics.json\n",
            "\n",
            "--- Evaluating gpt-4o-mini ---\n"
          ]
        },
        {
          "output_type": "stream",
          "name": "stderr",
          "text": [
            "100%|██████████| 851/851 [08:46<00:00,  1.62it/s]"
          ]
        },
        {
          "output_type": "stream",
          "name": "stdout",
          "text": [
            "Inference time: 526.13 seconds\n",
            "Precision=0.157 Recall=0.713 F1=0.258\n",
            "Precision=0.157 Recall=0.713 F1=0.258\n",
            "💾 GPU peak memory: 0.0 MB | CPU memory used: 4.7 GB (39.8%)\n",
            "✅ Saved to /content/drive/MyDrive/small_data_NER_project/results/prompt_gpt-4o-mini_k1/metrics.json\n"
          ]
        },
        {
          "output_type": "stream",
          "name": "stderr",
          "text": [
            "\n"
          ]
        }
      ]
    },
    {
      "cell_type": "code",
      "source": [
        "import json\n",
        "import pandas as pd\n",
        "import matplotlib.pyplot as plt\n",
        "\n",
        "summary = []\n",
        "\n",
        "# 读取所有结果\n",
        "for model_type in [\"flan-t5\", \"gpt-4o-mini\"]:\n",
        "    for k in K_VALUES:\n",
        "        out_dir = RESULT_BASE / f\"prompt_{model_type}_k{k}\" / \"metrics.json\"\n",
        "        if out_dir.exists():\n",
        "            with open(out_dir, \"r\") as f:\n",
        "                data = json.load(f)\n",
        "                data[\"model\"] = model_type\n",
        "                summary.append(data)\n",
        "        else:\n",
        "            print(f\"⚠️ Missing file: {out_dir}\")\n",
        "\n",
        "# 汇总成 DataFrame\n",
        "df = pd.DataFrame(summary)\n",
        "df = df.sort_values(by=[\"model\", \"k\"])\n",
        "print(\"\\nSummary of results:\")\n",
        "print(df[[\"model\", \"k\", \"f1\", \"precision\", \"recall\", \"infer_time_s\"]])\n",
        "\n",
        "# 保存 CSV\n",
        "summary_csv = RESULT_BASE / \"results_summary.csv\"\n",
        "df.to_csv(summary_csv, index=False)\n",
        "print(f\"✅ Saved summary to {summary_csv}\")\n",
        "\n",
        "# --- 画 F1 vs k ---\n",
        "plt.figure(figsize=(6,4))\n",
        "for model in df[\"model\"].unique():\n",
        "    sub = df[df[\"model\"] == model]\n",
        "    plt.plot(sub[\"k\"], sub[\"f1\"], marker=\"o\", label=model)\n",
        "\n",
        "plt.title(\"Few-shot Data Efficiency (F1 vs k)\")\n",
        "plt.xlabel(\"Number of examples per class (k)\")\n",
        "plt.ylabel(\"Entity-level F1\")\n",
        "plt.grid(True, alpha=0.3)\n",
        "plt.legend()\n",
        "plt.tight_layout()\n",
        "plt.show()\n"
      ],
      "metadata": {
        "colab": {
          "base_uri": "https://localhost:8080/",
          "height": 511
        },
        "id": "MzMGbjovlQTl",
        "outputId": "53eebe59-8e4d-4324-f0e7-ac0929a62fd8"
      },
      "execution_count": 62,
      "outputs": [
        {
          "output_type": "stream",
          "name": "stdout",
          "text": [
            "\n",
            "Summary of results:\n",
            "         model  k        f1  precision    recall  infer_time_s\n",
            "0      flan-t5  1  0.034765   0.036797  0.032946   1074.427388\n",
            "1  gpt-4o-mini  1  0.257884   0.157399  0.713178    526.125991\n",
            "✅ Saved summary to /content/drive/MyDrive/small_data_NER_project/results/results_summary.csv\n"
          ]
        },
        {
          "output_type": "display_data",
          "data": {
            "text/plain": [
              "<Figure size 600x400 with 1 Axes>"
            ],
            "image/png": "[encoded data removed]"
          },
          "metadata": {}
        }
      ]
    },
    {
      "cell_type": "code",
      "source": [],
      "metadata": {
        "id": "A-qUvjbficgv"
      },
      "execution_count": null,
      "outputs": []
    }
  ]
}